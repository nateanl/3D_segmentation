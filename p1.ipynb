{
 "cells": [
  {
   "cell_type": "code",
   "execution_count": 2,
   "metadata": {},
   "outputs": [],
   "source": [
    "import numpy as np\n",
    "from scipy import spatial"
   ]
  },
  {
   "cell_type": "code",
   "execution_count": 3,
   "metadata": {},
   "outputs": [],
   "source": []
  },
  {
   "cell_type": "code",
   "execution_count": 2,
   "metadata": {},
   "outputs": [],
   "source": [
    "class node:\n",
    "    normal = np.zeros((3,1))\n",
    "    label = 0\n",
    "    def __init__(self, x=0.0, y = 0.0, z = 0.0):\n",
    "        self.x = x\n",
    "        self.y = y\n",
    "        self.z = z\n",
    "    def is_empty(self):\n",
    "        return self.x==0.0 and self.y==0.0 and self.z==0.0\n",
    "    def coordination(self):\n",
    "        return np.mat([self.x,self.y,self.z])"
   ]
  },
  {
   "cell_type": "code",
   "execution_count": 24,
   "metadata": {},
   "outputs": [],
   "source": [
    "def load_data(file_dir):\n",
    "    data ={}\n",
    "    is_empty = {}\n",
    "    f = open(file_dir)\n",
    "    col = int(f.readline())\n",
    "    row = int(f.readline())\n",
    "    for i in range(8):\n",
    "        f.readline()\n",
    "    for i in range(col):\n",
    "        for j in range(row):\n",
    "            line = f.readline()\n",
    "            temp = line.split()\n",
    "            data[(i,j)] = np.array([float(temp[0]),float(temp[1]),float(temp[2])])\n",
    "            if np.all(np.less(data[(i,j)],np.array(0.01))):\n",
    "                is_empty[(i,j)] = True\n",
    "            else:\n",
    "                is_empty[(i,j)] = False\n",
    "    return data, is_empty, col, row"
   ]
  },
  {
   "cell_type": "code",
   "execution_count": 38,
   "metadata": {},
   "outputs": [],
   "source": [
    "def compute_normal(data,is_empty,col,row):\n",
    "    normal = {}\n",
    "    for i in data:\n",
    "        neighbors = []\n",
    "        c = i[0]\n",
    "        r = i[1]\n",
    "        if not is_empty[i] and c-1>=0 and c+1<col and r-1>=0 and r+1<row:\n",
    "            for j in [-1,0,1]:\n",
    "                for k in [-1,0,1]:\n",
    "                    if not is_empty[(c+j,r+k)]:\n",
    "                        neighbors.append(data[(c+j,r+k)])\n",
    "        if len(neighbors)>1:\n",
    "            normal[i] = get_normal_vector(neighbors)\n",
    "    return normal"
   ]
  },
  {
   "cell_type": "code",
   "execution_count": 39,
   "metadata": {},
   "outputs": [],
   "source": [
    "def get_normal_vector(neighbors):\n",
    "    center = np.zeros((3,),dtype='float')\n",
    "    for p in neighbors:\n",
    "        center+=p\n",
    "    center = center/len(neighbors)\n",
    "    cov = np.zeros((3,3),dtype='float')\n",
    "    for p in neighbors:\n",
    "        pprime = p-center\n",
    "        cov+=pprime*pprime.T\n",
    "    w,v = np.linalg.eig(cov)\n",
    "    return v[np.argmin(w)]"
   ]
  },
  {
   "cell_type": "code",
   "execution_count": 28,
   "metadata": {},
   "outputs": [],
   "source": [
    "data,is_empty,col,row = load_data('/home/near/Documents/3d/DATA/NECorner.ptx')"
   ]
  },
  {
   "cell_type": "code",
   "execution_count": 40,
   "metadata": {},
   "outputs": [],
   "source": [
    "normal = compute_normal(data,is_empty,col,row)"
   ]
  },
  {
   "cell_type": "code",
   "execution_count": 42,
   "metadata": {},
   "outputs": [],
   "source": [
    "def get_distance(a,b,c):\n",
    "    return max(np.dot(a,b),np.dot(a,c))"
   ]
  },
  {
   "cell_type": "code",
   "execution_count": 43,
   "metadata": {},
   "outputs": [],
   "source": [
    "def is_connected(data,normal,a,b):\n",
    "    angle = spatial.distance.cosine(normal[a],normal[b])\n",
    "    distance = get_distance(data[a]-data[b],normal[a],normal[b])\n",
    "    if angle<0.8 or distance>0.001:\n",
    "        return False\n",
    "    return True"
   ]
  },
  {
   "cell_type": "code",
   "execution_count": 45,
   "metadata": {},
   "outputs": [],
   "source": [
    "def set_label(data,is_empty,normal,visited,l,i,j,label):\n",
    "    q = [(i,j)]\n",
    "    while len(q)>0:\n",
    "            tmp = q.pop(0)\n",
    "            ii = tmp[0]\n",
    "            jj = tmp[1]\n",
    "            if visited[(ii,jj)]==True or is_empty[(ii,jj)]:\n",
    "                continue\n",
    "            visited[(ii,jj)] = True\n",
    "            l[(ii,jj)] = label\n",
    "            if ii-1>=0 and visited[(ii-1,jj)] == False and not is_empty[(ii-1,jj)] and is_connected(data,normal,(ii,jj),(ii-1,jj)):\n",
    "                    q.append((ii-1,jj))\n",
    "            if ii+1<col and visited[(ii+1,jj)] == False and not is_empty[(ii+1,jj)] and is_connected(data,normal,(ii,jj),(ii+1,jj)):\n",
    "                    q.append((ii+1,jj))\n",
    "            if jj-1>=0 and visited[(ii,jj-1)] == False and not is_empty[(ii,jj-1)] and is_connected(data,normal,(ii,jj),(ii,jj-1)):\n",
    "                    q.append((ii,jj-1))\n",
    "            if jj+1<row and visited[(ii,jj+1)] == False and not is_empty[(ii,jj+1)] and is_connected(data,normal,(ii,jj),(ii,jj+1)):\n",
    "                    q.append((ii,jj+1))\n",
    "            if ii-1>=0 and jj-1>=0 and visited[(ii-1,jj-1)] == False and not is_empty[(ii-1,jj-1)] and is_connected(data,normal,(ii,jj),(ii-1,jj-1)):\n",
    "                    q.append((ii-1,jj-1))\n",
    "            if ii-1>=0 and jj+1<row and visited[(ii-1,jj+1)] == False and not is_empty[(ii-1,jj+1)] and is_connected(data,normal,(ii,jj),(ii-1,jj+1)):\n",
    "                    q.append((ii-1,jj+1))\n",
    "            if ii+1<col and jj-1>=0 and visited[(ii+1,jj-1)]==False and not is_empty[(ii+1,jj-1)] and is_connected(data,normal,(ii,jj),(ii+1,jj-1)):\n",
    "                    q.append((ii+1,jj-1))\n",
    "            if ii+1<col and jj+1<row and visited[(ii+1,jj+1)] == False and not is_empty[(ii+1,jj+1)] and is_connected(data,normal,(ii,jj),(ii+1,jj+1)):\n",
    "                    q.append((ii+1,jj+1))"
   ]
  },
  {
   "cell_type": "code",
   "execution_count": 47,
   "metadata": {},
   "outputs": [],
   "source": [
    "label=1\n",
    "l = {}\n",
    "visited = {}\n",
    "for i in range(col):\n",
    "    for j in range(row):\n",
    "        visited[(i,j)] = False\n",
    "for i in range(col):\n",
    "    for j in range(row):\n",
    "        if not visited[(i,j)] and not not is_empty[(i,j)]:\n",
    "            set_label(data,is_empty,normal,visited,l,i,j,label)\n",
    "            label+=1"
   ]
  },
  {
   "cell_type": "code",
   "execution_count": 48,
   "metadata": {},
   "outputs": [],
   "source": [
    "pp = np.zeros((col,row),dtype='int')\n",
    "for i in l:\n",
    "    pp[i[0],i[1]] = l[i]"
   ]
  },
  {
   "cell_type": "code",
   "execution_count": 49,
   "metadata": {},
   "outputs": [
    {
     "data": {
      "image/png": "[encoded data removed]",
      "text/plain": [
       "<matplotlib.figure.Figure at 0x7f41687e25f8>"
      ]
     },
     "metadata": {},
     "output_type": "display_data"
    }
   ],
   "source": [
    "import matplotlib\n",
    "import matplotlib.pyplot as plt\n",
    "%matplotlib inline \n",
    "plt.imshow(pp)\n",
    "plt.show()"
   ]
  },
  {
   "cell_type": "code",
   "execution_count": 4,
   "metadata": {},
   "outputs": [],
   "source": [
    "def get_centroid(sub_mat):\n",
    "    temp = []\n",
    "    for ele in sub_mat:\n",
    "        if node.is_empty:\n",
    "            continue\n",
    "        else:\n",
    "            temp.append(ele)\n",
    "    if len(temp)==0:\n",
    "        return np.mat([0.0,0.0,0.0])\n",
    "    else:\n",
    "        x = np.mean([ele.x for ele in temp])\n",
    "        y = np.mean([ele.y for ele in temp])\n",
    "        z = np.mean([ele.z for ele in temp])\n",
    "        return np.mat([x,y,z])"
   ]
  },
  {
   "cell_type": "code",
   "execution_count": null,
   "metadata": {},
   "outputs": [],
   "source": [
    "def get_nomr"
   ]
  },
  {
   "cell_type": "code",
   "execution_count": null,
   "metadata": {},
   "outputs": [],
   "source": []
  },
  {
   "cell_type": "code",
   "execution_count": 5,
   "metadata": {},
   "outputs": [],
   "source": [
    "def to_vector(n):\n",
    "    return np.mat([n.x,n.y,n.z])"
   ]
  },
  {
   "cell_type": "code",
   "execution_count": 42,
   "metadata": {},
   "outputs": [],
   "source": [
    "def compute_normal(mat, i, j, row, col):\n",
    "    #find the KXK neighborhood nodes for node mat[i][j]\n",
    "    #if it is at the corner, find the boundary\n",
    "    #exclude the empty one\n",
    "    if i-1<0:\n",
    "        l = 0\n",
    "        r = 7\n",
    "    elif i+2>=col:\n",
    "        l = col-3\n",
    "        r = col\n",
    "    else:\n",
    "        l = i-1\n",
    "        r = i+2\n",
    "    if j-1<0:\n",
    "        u = 0\n",
    "        d = 3\n",
    "    elif j+2>=row:\n",
    "        u = row-3\n",
    "        d = row\n",
    "    else:\n",
    "        u = j-1\n",
    "        d = j+2\n",
    "    \n",
    "    sub_mat = []\n",
    "    for ii in range(l,r):\n",
    "        for jj in range(u,d):\n",
    "            sub_mat.append(mat[ii,jj])\n",
    "    #find all pairs of three points and calculate the center point\n",
    "    c = get_centroid(sub_mat)\n",
    "    pprime = c-to_vector(mat[i,j])\n",
    "    w,v = np.linalg.eig(np.matmul(pprime.T,pprime))\n",
    "    return v[:,np.argmin(w)]"
   ]
  },
  {
   "cell_type": "code",
   "execution_count": 43,
   "metadata": {},
   "outputs": [],
   "source": [
    "for i in range(col):\n",
    "    for j in range(row):\n",
    "        mat[i,j].normal = compute_normal(mat, i, j, row, col)"
   ]
  },
  {
   "cell_type": "code",
   "execution_count": 44,
   "metadata": {},
   "outputs": [],
   "source": [
    "#apply region growing algorithm\n",
    "def set_label(mat,i,j,col,row,label,visited):\n",
    "    if i<0 or i>=col or j<0 or j>=row or visited[i][j]==True:\n",
    "        return\n",
    "    else:\n",
    "        q = [(i,j)]\n",
    "        while len(q)!=0:\n",
    "            tmp = q.pop(0)\n",
    "            ii = tmp[0]\n",
    "            jj = tmp[1]\n",
    "            if visited[ii][jj]==True or mat[ii,jj].is_empty():\n",
    "                continue\n",
    "            visited[ii][jj] = True\n",
    "            mat[ii,jj].label = label\n",
    "            if ii-1>=0 and visited[ii-1][jj] == False and not mat[ii-1,jj].is_empty() and is_connected(mat[ii,jj],mat[ii-1,jj]):\n",
    "                    q.append((ii-1,jj))\n",
    "            if ii+1<col and visited[ii+1][jj] == False and not mat[ii+1,jj].is_empty() and is_connected(mat[ii,jj],mat[ii+1,jj]):\n",
    "                    q.append((ii+1,jj))\n",
    "            if jj-1>=0 and visited[ii][jj-1] == False and not mat[ii,jj-1].is_empty() and is_connected(mat[ii,jj],mat[ii,jj-1]):\n",
    "                    q.append((ii,jj-1))\n",
    "            if jj+1<row and visited[ii][jj+1] == False and not mat[ii,jj+1].is_empty() and is_connected(mat[ii,jj],mat[ii,jj+1]):\n",
    "                    q.append((ii,jj+1))\n",
    "            if ii-1>=0 and jj-1>=0 and visited[ii-1][jj-1] == False and not mat[ii-1,jj-1].is_empty() and is_connected(mat[ii,jj],mat[ii-1,jj-1]):\n",
    "                    q.append((ii-1,jj-1))\n",
    "            if ii-1>=0 and jj+1<row and visited[ii-1][jj+1] == False and not mat[ii-1,jj+1].is_empty() and is_connected(mat[ii,jj],mat[ii-1,jj+1]):\n",
    "                    q.append((ii-1,jj+1))\n",
    "            if ii+1<col and jj-1>=0 and visited[ii+1][jj-1]==False and not mat[ii+1,jj-1].is_empty() and is_connected(mat[ii,jj],mat[ii+1,jj-1]):\n",
    "                    q.append((ii+1,jj-1))\n",
    "            if ii+1<col and jj+1<row and visited[ii+1][jj+1] == False and not mat[ii+1,jj+1].is_empty() and is_connected(mat[ii,jj],mat[ii+1,jj+1]):\n",
    "                    q.append((ii+1,jj+1))\n",
    "        return"
   ]
  },
  {
   "cell_type": "code",
   "execution_count": 57,
   "metadata": {
    "scrolled": false
   },
   "outputs": [],
   "source": [
    "def is_connected(node1,node2):\n",
    "    angle = spatial.distance.cosine(node1.normal, node2.normal)\n",
    "    distance = get_distance(node1,node2)\n",
    "    if angle<0.8 or distance>0.001:\n",
    "        return False\n",
    "    return True"
   ]
  },
  {
   "cell_type": "code",
   "execution_count": 53,
   "metadata": {},
   "outputs": [],
   "source": [
    "def get_distance(node1,node2):\n",
    "    v1 = np.asarray(node1.coordination())\n",
    "    v2 = np.asarray(node2.coordination())\n",
    "    v = v1-v2\n",
    "    return max(np.abs(np.dot(np.asarray(node1.normal.T),v.T)),np.abs(np.dot(np.asarray(node2.normal.T),v.T)))"
   ]
  },
  {
   "cell_type": "code",
   "execution_count": 58,
   "metadata": {},
   "outputs": [],
   "source": [
    "label = 1\n",
    "visited = {}\n",
    "for i in range(col):\n",
    "    visited[i] ={}\n",
    "    for j in range(row):\n",
    "        visited[i][j] = False\n",
    "for i in range(col):\n",
    "    for j in range(row):\n",
    "        if visited[i][j]==False and not mat[i,j].is_empty():\n",
    "            set_label(mat,i,j,col,row,label,visited)\n",
    "            label+=1"
   ]
  },
  {
   "cell_type": "code",
   "execution_count": 50,
   "metadata": {},
   "outputs": [
    {
     "data": {
      "text/plain": [
       "(1, 3)"
      ]
     },
     "execution_count": 50,
     "metadata": {},
     "output_type": "execute_result"
    }
   ],
   "source": [
    "np.asarray(mat[0,0].coordination()).shape"
   ]
  },
  {
   "cell_type": "code",
   "execution_count": 13,
   "metadata": {},
   "outputs": [],
   "source": [
    "node1 = mat[600,600]\n",
    "node2 = mat[601,601]"
   ]
  },
  {
   "cell_type": "code",
   "execution_count": 59,
   "metadata": {},
   "outputs": [],
   "source": [
    "label = []\n",
    "for i in range(col):\n",
    "    temp = []\n",
    "    for j in range(row):\n",
    "        temp.append(mat[i,j].label)\n",
    "    label.append(temp)"
   ]
  },
  {
   "cell_type": "code",
   "execution_count": 60,
   "metadata": {
    "scrolled": false
   },
   "outputs": [
    {
     "data": {
      "image/png": "[encoded data removed]",
      "text/plain": [
       "<matplotlib.figure.Figure at 0x7f35d273b860>"
      ]
     },
     "metadata": {},
     "output_type": "display_data"
    }
   ],
   "source": [
    "import matplotlib\n",
    "import matplotlib.pyplot as plt\n",
    "%matplotlib inline \n",
    "plt.imshow(np.asarray(label).T)\n",
    "plt.show()"
   ]
  },
  {
   "cell_type": "code",
   "execution_count": 16,
   "metadata": {},
   "outputs": [],
   "source": [
    "angle = spatial.distance.cosine(node1.normal, node2.normal)"
   ]
  },
  {
   "cell_type": "code",
   "execution_count": 31,
   "metadata": {},
   "outputs": [
    {
     "name": "stdout",
     "output_type": "stream",
     "text": [
      "[[ 0.02713362]]\n"
     ]
    }
   ],
   "source": [
    "v1 = np.asarray(node1.coordination())\n",
    "v2 = np.asarray(node2.coordination())\n",
    "v = v1-v2\n",
    "print(max(np.abs(np.dot(np.asarray(node1.normal),v.T)),np.abs(np.dot(np.asarray(node2.normal),v.T))))"
   ]
  },
  {
   "cell_type": "code",
   "execution_count": 61,
   "metadata": {},
   "outputs": [
    {
     "data": {
      "text/plain": [
       "797807"
      ]
     },
     "execution_count": 61,
     "metadata": {},
     "output_type": "execute_result"
    }
   ],
   "source": [
    "len(list(set(np.asarray(label).flatten())))"
   ]
  },
  {
   "cell_type": "code",
   "execution_count": null,
   "metadata": {
    "collapsed": true
   },
   "outputs": [],
   "source": [
    "twelve_colors=['#525252','#e41a1c', '#377eb8', '#4daf4a', '#984ea3', '#ff7f00','#ffff33', '#a65628', '#999999','#f781bf','#bababa','#404040']\n",
    "#ax.scatter(data[:,0], data[:,1], data[:,2], ,s=2.5, linewidth=0.1)\n",
    "if save_fig:\n",
    "    ax = plt.axes(projection = '3d')\n",
    "    if data.shape[0]>0:\n",
    "    #ax.scatter(data[i,0], data[i,1], data[i,2], c=eleven_colors[color_lbl[i]-1], alpha=0.65)\n",
    "     #print \"color_lbl[i]-1\",color_lbl[i]-1\n",
    "        for i in xrange(data.shape[0]):\n",
    "            if plot_style ==0:\n",
    "                ax.scatter(data[i,0], data[i,1], data[i,2],s=2.5,c=twelve_colors[data[i,3]%12], linewidth=0.1,alpha=0.35)\n",
    "            if plot_style ==1:\n",
    "                ax.scatter(data[i,0], data[i,1], data[i,2],s=1.5,c=twelve_colors[data[i,3]%12], linewidth=0.1,alpha=0.15)\n",
    "#ax.scatter(data[:,0], data[:,1], data[:,2], c=lbl, alpha=0.65)\n",
    "#ax.set_xlim3d(-80, -40)\n",
    "#ax.set_ylim3d(290, 330)\n",
    "#ax.set_zlim3d(-36 , -32)\n",
    "#plt.show()\n",
    "    ax.set_xlabel('x')\n",
    "    ax.set_ylabel('y')\n",
    "    ax.set_zlabel('z')\n",
    "    ax.set_title(file_name)\n",
    "    plt.savefig('./result/'+file_name, dpi = (200))\n",
    "    plt.show()\n",
    "    plt.close()\n"
   ]
  }
 ],
 "metadata": {
  "anaconda-cloud": {},
  "kernelspec": {
   "display_name": "Python 3",
   "language": "python",
   "name": "python3"
  },
  "language_info": {
   "codemirror_mode": {
    "name": "ipython",
    "version": 3
   },
   "file_extension": ".py",
   "mimetype": "text/x-python",
   "name": "python",
   "nbconvert_exporter": "python",
   "pygments_lexer": "ipython3",
   "version": "3.5.2"
  }
 },
 "nbformat": 4,
 "nbformat_minor": 1
}
